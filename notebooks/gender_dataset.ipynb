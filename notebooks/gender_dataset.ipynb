{
 "cells": [
  {
   "cell_type": "code",
   "execution_count": 1,
   "metadata": {},
   "outputs": [],
   "source": [
    "import sys\n",
    "sys.path.append('..')\n",
    "\n",
    "import pandas as pd\n",
    "import numpy as np\n",
    "import sys\n",
    "import json\n",
    "import jsonlines\n",
    "from sklearn.model_selection import train_test_split\n",
    "from tqdm import tqdm\n",
    "\n",
    "from advsber.utils.data import write_jsonlines"
   ]
  },
  {
   "cell_type": "code",
   "execution_count": 2,
   "metadata": {},
   "outputs": [],
   "source": [
    "TEST_RATIO = 0.1\n",
    "SUBST_RATIO = 0.3\n",
    "VALID_RATIO = 0.2\n",
    "LM_RATIO = 0.1\n",
    "DATASET_PATH = 'datasets/gender'\n",
    "\n",
    "MIN_LEN = 3\n",
    "MAX_LEN = 50"
   ]
  },
  {
   "cell_type": "code",
   "execution_count": 3,
   "metadata": {},
   "outputs": [],
   "source": [
    "transactions = pd.read_csv('/notebook/morozov/data/gender/original/transactions.csv')\n",
    "target_data = pd.read_csv('/notebook/morozov/data/gender/original/gender_train.csv')"
   ]
  },
  {
   "cell_type": "code",
   "execution_count": 4,
   "metadata": {},
   "outputs": [],
   "source": [
    "target_data_dict = dict(target_data.values)"
   ]
  },
  {
   "cell_type": "code",
   "execution_count": 5,
   "metadata": {},
   "outputs": [],
   "source": [
    "data = transactions.rename(columns={'customer_id': 'client_id', 'trans':'small_group', 'amount':'amount_rur'})\n",
    "target_data = target_data.rename(columns={'customer_id':'client_id', 'gender':'bins'})"
   ]
  },
  {
   "cell_type": "code",
   "execution_count": 6,
   "metadata": {},
   "outputs": [],
   "source": [
    "data['week'] = data['tr_datetime'].str.split(' ').apply(lambda x: int(x[0]) // 7)"
   ]
  },
  {
   "cell_type": "code",
   "execution_count": 7,
   "metadata": {},
   "outputs": [
    {
     "name": "stderr",
     "output_type": "stream",
     "text": [
      "100%|██████████| 15000/15000 [11:49<00:00, 21.13it/s]\n"
     ]
    }
   ],
   "source": [
    "clients = data['client_id'].unique()\n",
    "\n",
    "my_lovely_data = []\n",
    "\n",
    "for client_id in tqdm(clients):\n",
    "    client_data = data[data['client_id'] == client_id]\n",
    "    client_weeks = client_data.week.unique()\n",
    "    \n",
    "    for week in client_weeks:\n",
    "        client_data_week = client_data[client_data['week'] == week]\n",
    "        my_lovely_data.append(\n",
    "            {\n",
    "                'transactions': client_data_week['mcc_code'].tolist(),\n",
    "                'amounts': client_data_week.amount_rur.tolist(),\n",
    "                'client_id': client_id, \n",
    "                'week': week\n",
    "            }\n",
    "        )"
   ]
  },
  {
   "cell_type": "code",
   "execution_count": 8,
   "metadata": {},
   "outputs": [],
   "source": [
    "my_lovely_data = pd.DataFrame(my_lovely_data)\n",
    "my_lovely_data['label'] = my_lovely_data['client_id'].apply(lambda x: target_data_dict.get(x))\n",
    "my_lovely_data = my_lovely_data[~my_lovely_data['label'].isna()]\n",
    "my_lovely_data['label'] = my_lovely_data['label'].astype(int)\n",
    "my_lovely_data = my_lovely_data[['transactions', 'amounts', 'client_id', 'label']]"
   ]
  },
  {
   "cell_type": "code",
   "execution_count": null,
   "metadata": {},
   "outputs": [],
   "source": []
  },
  {
   "cell_type": "code",
   "execution_count": 9,
   "metadata": {},
   "outputs": [
    {
     "data": {
      "text/plain": [
       "(440337, 4)"
      ]
     },
     "execution_count": 9,
     "metadata": {},
     "output_type": "execute_result"
    }
   ],
   "source": [
    "my_lovely_data.shape"
   ]
  },
  {
   "cell_type": "code",
   "execution_count": 10,
   "metadata": {},
   "outputs": [],
   "source": [
    "lens = my_lovely_data.transactions.apply(lambda x: len(x))\n",
    "\n",
    "my_lovely_data = my_lovely_data[(lens >= MIN_LEN) & (lens <= MAX_LEN)]"
   ]
  },
  {
   "cell_type": "code",
   "execution_count": 11,
   "metadata": {},
   "outputs": [
    {
     "data": {
      "text/plain": [
       "(334861, 4)"
      ]
     },
     "execution_count": 11,
     "metadata": {},
     "output_type": "execute_result"
    }
   ],
   "source": [
    "my_lovely_data.shape"
   ]
  },
  {
   "cell_type": "code",
   "execution_count": null,
   "metadata": {},
   "outputs": [],
   "source": [
    "lm_train, lm_valid = train_test_split(\n",
    "    my_lovely_data, \n",
    "    stratify=my_lovely_data['label'], \n",
    "    random_state=126663,\n",
    "    test_size=LM_RATIO\n",
    ")\n",
    "\n",
    "other_data, test_data = train_test_split(\n",
    "    my_lovely_data, \n",
    "    stratify=my_lovely_data['label'], \n",
    "    random_state=123,\n",
    "    test_size=TEST_RATIO\n",
    ")\n",
    "\n",
    "target_data, subst_data = train_test_split(\n",
    "    other_data, \n",
    "    stratify=other_data['label'], \n",
    "    random_state=123,\n",
    "    test_size=SUBST_RATIO\n",
    ")\n",
    "\n",
    "target_data_tr, target_data_val = train_test_split(\n",
    "    target_data, \n",
    "    stratify=target_data['label'], \n",
    "    random_state=123,\n",
    "    test_size=VALID_RATIO\n",
    ")\n",
    "\n",
    "subst_data_tr, subst_data_val = train_test_split(\n",
    "    subst_data, \n",
    "    stratify=subst_data['label'], \n",
    "    random_state=123,\n",
    "    test_size=VALID_RATIO\n",
    ")"
   ]
  },
  {
   "cell_type": "code",
   "execution_count": 21,
   "metadata": {},
   "outputs": [
    {
     "data": {
      "text/plain": [
       "((33487, 4), (168768, 4), (42193, 4))"
      ]
     },
     "execution_count": 21,
     "metadata": {},
     "output_type": "execute_result"
    }
   ],
   "source": [
    "test_data.shape, target_data_tr.shape, target_data_val.shape"
   ]
  },
  {
   "cell_type": "code",
   "execution_count": 22,
   "metadata": {},
   "outputs": [
    {
     "data": {
      "text/plain": [
       "((72330, 4), (18083, 4))"
      ]
     },
     "execution_count": 22,
     "metadata": {},
     "output_type": "execute_result"
    }
   ],
   "source": [
    "subst_data_tr.shape, subst_data_val.shape"
   ]
  },
  {
   "cell_type": "code",
   "execution_count": 23,
   "metadata": {},
   "outputs": [
    {
     "data": {
      "text/plain": [
       "((301374, 4), (33487, 4))"
      ]
     },
     "execution_count": 23,
     "metadata": {},
     "output_type": "execute_result"
    }
   ],
   "source": [
    "lm_train.shape, lm_valid.shape"
   ]
  },
  {
   "cell_type": "code",
   "execution_count": 12,
   "metadata": {},
   "outputs": [],
   "source": [
    "write_jsonlines(test_data.to_dict('records'), f'{DATASET_PATH}/test.jsonl')\n",
    "\n",
    "write_jsonlines(target_data_tr.to_dict('records'), f'{DATASET_PATH}/target_clf/train.jsonl')\n",
    "write_jsonlines(target_data_val.to_dict('records'), f'{DATASET_PATH}/target_clf/valid.jsonl')\n",
    "\n",
    "write_jsonlines(subst_data_tr.to_dict('records'), f'{DATASET_PATH}/substitute_clf/train.jsonl')\n",
    "write_jsonlines(subst_data_val.to_dict('records'), f'{DATASET_PATH}/substitute_clf/valid.jsonl')\n",
    "\n",
    "write_jsonlines(lm_train.to_dict('records'), f'{DATASET_PATH}/lm/train.jsonl')\n",
    "write_jsonlines(lm_valid.to_dict('records'), f'{DATASET_PATH}/lm/valid.jsonl')"
   ]
  },
  {
   "cell_type": "code",
   "execution_count": null,
   "metadata": {},
   "outputs": [],
   "source": []
  },
  {
   "cell_type": "code",
   "execution_count": null,
   "metadata": {},
   "outputs": [],
   "source": []
  },
  {
   "cell_type": "code",
   "execution_count": null,
   "metadata": {},
   "outputs": [],
   "source": []
  },
  {
   "cell_type": "code",
   "execution_count": null,
   "metadata": {},
   "outputs": [],
   "source": []
  },
  {
   "cell_type": "code",
   "execution_count": null,
   "metadata": {},
   "outputs": [],
   "source": []
  }
 ],
 "metadata": {
  "kernelspec": {
   "display_name": "Python 3",
   "language": "python",
   "name": "python3"
  },
  "language_info": {
   "codemirror_mode": {
    "name": "ipython",
    "version": 3
   },
   "file_extension": ".py",
   "mimetype": "text/x-python",
   "name": "python",
   "nbconvert_exporter": "python",
   "pygments_lexer": "ipython3",
   "version": "3.6.9"
  }
 },
 "nbformat": 4,
 "nbformat_minor": 4
}
