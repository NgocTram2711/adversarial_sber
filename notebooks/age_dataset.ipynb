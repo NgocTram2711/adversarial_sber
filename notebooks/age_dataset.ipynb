{
 "cells": [
  {
   "cell_type": "code",
   "execution_count": 1,
   "metadata": {},
   "outputs": [],
   "source": [
    "import sys\n",
    "sys.path.append('..')\n",
    "\n",
    "import pandas as pd\n",
    "import numpy as np\n",
    "import sys\n",
    "import json\n",
    "import jsonlines\n",
    "from sklearn.model_selection import train_test_split\n",
    "from tqdm import tqdm\n",
    "\n",
    "from advsber.utils.data import write_jsonlines"
   ]
  },
  {
   "cell_type": "code",
   "execution_count": 10,
   "metadata": {},
   "outputs": [],
   "source": [
    "NUM_DAYS = 7\n",
    "\n",
    "TEST_RATIO = 0.1\n",
    "SUBST_RATIO = 0.3\n",
    "VALID_RATIO = 0.2\n",
    "LM_RATIO = 0.1\n",
    "DATASET_PATH = '../datasets/age'\n",
    "NUM_WEEKS = 25\n",
    "\n",
    "MIN_LEN = 3\n",
    "MAX_LEN = 50"
   ]
  },
  {
   "cell_type": "code",
   "execution_count": 3,
   "metadata": {},
   "outputs": [],
   "source": [
    "data = pd.read_csv('/notebook/morozov/data/age/original/transactions_train.csv')\n",
    "target_data = pd.read_csv('/notebook/morozov/data/age/original/train_target.csv')"
   ]
  },
  {
   "cell_type": "code",
   "execution_count": 4,
   "metadata": {},
   "outputs": [],
   "source": [
    "target_data_dict = dict(target_data.values)"
   ]
  },
  {
   "cell_type": "code",
   "execution_count": 5,
   "metadata": {},
   "outputs": [],
   "source": [
    "data['week'] = data['trans_date'] // NUM_DAYS"
   ]
  },
  {
   "cell_type": "code",
   "execution_count": 6,
   "metadata": {},
   "outputs": [
    {
     "data": {
      "text/html": [
       "<div>\n",
       "<style scoped>\n",
       "    .dataframe tbody tr th:only-of-type {\n",
       "        vertical-align: middle;\n",
       "    }\n",
       "\n",
       "    .dataframe tbody tr th {\n",
       "        vertical-align: top;\n",
       "    }\n",
       "\n",
       "    .dataframe thead th {\n",
       "        text-align: right;\n",
       "    }\n",
       "</style>\n",
       "<table border=\"1\" class=\"dataframe\">\n",
       "  <thead>\n",
       "    <tr style=\"text-align: right;\">\n",
       "      <th></th>\n",
       "      <th>client_id</th>\n",
       "      <th>trans_date</th>\n",
       "      <th>small_group</th>\n",
       "      <th>amount_rur</th>\n",
       "      <th>week</th>\n",
       "    </tr>\n",
       "  </thead>\n",
       "  <tbody>\n",
       "    <tr>\n",
       "      <th>0</th>\n",
       "      <td>33172</td>\n",
       "      <td>6</td>\n",
       "      <td>4</td>\n",
       "      <td>71.463</td>\n",
       "      <td>0</td>\n",
       "    </tr>\n",
       "    <tr>\n",
       "      <th>1</th>\n",
       "      <td>33172</td>\n",
       "      <td>6</td>\n",
       "      <td>35</td>\n",
       "      <td>45.017</td>\n",
       "      <td>0</td>\n",
       "    </tr>\n",
       "    <tr>\n",
       "      <th>2</th>\n",
       "      <td>33172</td>\n",
       "      <td>8</td>\n",
       "      <td>11</td>\n",
       "      <td>13.887</td>\n",
       "      <td>1</td>\n",
       "    </tr>\n",
       "    <tr>\n",
       "      <th>3</th>\n",
       "      <td>33172</td>\n",
       "      <td>9</td>\n",
       "      <td>11</td>\n",
       "      <td>15.983</td>\n",
       "      <td>1</td>\n",
       "    </tr>\n",
       "    <tr>\n",
       "      <th>4</th>\n",
       "      <td>33172</td>\n",
       "      <td>10</td>\n",
       "      <td>11</td>\n",
       "      <td>21.341</td>\n",
       "      <td>1</td>\n",
       "    </tr>\n",
       "  </tbody>\n",
       "</table>\n",
       "</div>"
      ],
      "text/plain": [
       "   client_id  trans_date  small_group  amount_rur  week\n",
       "0      33172           6            4      71.463     0\n",
       "1      33172           6           35      45.017     0\n",
       "2      33172           8           11      13.887     1\n",
       "3      33172           9           11      15.983     1\n",
       "4      33172          10           11      21.341     1"
      ]
     },
     "execution_count": 6,
     "metadata": {},
     "output_type": "execute_result"
    }
   ],
   "source": [
    "data.head()"
   ]
  },
  {
   "cell_type": "code",
   "execution_count": 7,
   "metadata": {},
   "outputs": [],
   "source": [
    "transactions = data.groupby(['client_id', 'week']).agg(list)"
   ]
  },
  {
   "cell_type": "code",
   "execution_count": 8,
   "metadata": {},
   "outputs": [
    {
     "name": "stderr",
     "output_type": "stream",
     "text": [
      "3060107it [07:20, 6948.07it/s]\n"
     ]
    }
   ],
   "source": [
    "my_lovely_data_raw = []\n",
    "\n",
    "for idx, (_, row) in tqdm(enumerate(transactions.iterrows())):\n",
    "    client_id, week = row.name\n",
    "\n",
    "    my_lovely_data_raw.append(\n",
    "        {\n",
    "            'transactions': row['small_group'],\n",
    "            'amounts': row.amount_rur,\n",
    "            'client_id': client_id, \n",
    "            'week': week\n",
    "        }\n",
    "    )"
   ]
  },
  {
   "cell_type": "code",
   "execution_count": 9,
   "metadata": {},
   "outputs": [],
   "source": [
    "# my_lovely_data_raw = []\n",
    "\n",
    "# for idx, (_, row) in tqdm(enumerate(transactions.iterrows())):\n",
    "#     client_id, week = row.name\n",
    "\n",
    "#     if (\n",
    "#         idx > 0 and \n",
    "#         len(my_lovely_data_raw[-1]['transactions']) < MIN_LEN and\n",
    "#         client_id == my_lovely_data_raw[-1]['client_id']\n",
    "#     ):\n",
    "#         my_lovely_data_raw[-1]['transactions'].extend(row['small_group'])\n",
    "#         my_lovely_data_raw[-1]['amounts'].extend(row['amount_rur'])\n",
    "#         my_lovely_data_raw[-1]['week'] = week\n",
    "#     else:\n",
    "#         my_lovely_data_raw.append(\n",
    "#             {\n",
    "#                 'transactions': row['small_group'],\n",
    "#                 'amounts': row.amount_rur,\n",
    "#                 'client_id': client_id, \n",
    "#                 'week': week\n",
    "#             }\n",
    "#         )"
   ]
  },
  {
   "cell_type": "code",
   "execution_count": 11,
   "metadata": {},
   "outputs": [],
   "source": [
    "my_lovely_data = pd.DataFrame(my_lovely_data_raw)"
   ]
  },
  {
   "cell_type": "code",
   "execution_count": 12,
   "metadata": {},
   "outputs": [
    {
     "data": {
      "text/plain": [
       "(3060107, 4)"
      ]
     },
     "execution_count": 12,
     "metadata": {},
     "output_type": "execute_result"
    }
   ],
   "source": [
    "my_lovely_data.shape"
   ]
  },
  {
   "cell_type": "code",
   "execution_count": 13,
   "metadata": {},
   "outputs": [],
   "source": [
    "my_lovely_data = my_lovely_data[(my_lovely_data['week'] < NUM_WEEKS)]"
   ]
  },
  {
   "cell_type": "code",
   "execution_count": 14,
   "metadata": {},
   "outputs": [
    {
     "data": {
      "text/plain": [
       "(715574, 4)"
      ]
     },
     "execution_count": 14,
     "metadata": {},
     "output_type": "execute_result"
    }
   ],
   "source": [
    "my_lovely_data.shape"
   ]
  },
  {
   "cell_type": "code",
   "execution_count": 15,
   "metadata": {},
   "outputs": [],
   "source": [
    "my_lovely_data['label'] = my_lovely_data['client_id'].apply(lambda x: target_data_dict.get(x))\n",
    "my_lovely_data = my_lovely_data[~my_lovely_data['label'].isna()]\n",
    "my_lovely_data['label'] = my_lovely_data['label'].astype(int)\n",
    "my_lovely_data = my_lovely_data[['transactions', 'amounts', 'client_id', 'label']]"
   ]
  },
  {
   "cell_type": "code",
   "execution_count": 16,
   "metadata": {},
   "outputs": [
    {
     "data": {
      "text/plain": [
       "(715574, 4)"
      ]
     },
     "execution_count": 16,
     "metadata": {},
     "output_type": "execute_result"
    }
   ],
   "source": [
    "my_lovely_data.shape"
   ]
  },
  {
   "cell_type": "code",
   "execution_count": 17,
   "metadata": {},
   "outputs": [],
   "source": [
    "lens = my_lovely_data.transactions.apply(lambda x: len(x))\n",
    "\n",
    "my_lovely_data = my_lovely_data[(lens >= MIN_LEN) & (lens <= MAX_LEN)]"
   ]
  },
  {
   "cell_type": "code",
   "execution_count": 18,
   "metadata": {},
   "outputs": [
    {
     "data": {
      "text/plain": [
       "(640700, 4)"
      ]
     },
     "execution_count": 18,
     "metadata": {},
     "output_type": "execute_result"
    }
   ],
   "source": [
    "my_lovely_data.shape"
   ]
  },
  {
   "cell_type": "code",
   "execution_count": null,
   "metadata": {},
   "outputs": [],
   "source": []
  },
  {
   "cell_type": "code",
   "execution_count": 19,
   "metadata": {},
   "outputs": [],
   "source": [
    "lm_train, lm_valid = train_test_split(\n",
    "    my_lovely_data, \n",
    "    stratify=my_lovely_data['label'], \n",
    "    random_state=126663,\n",
    "    test_size=LM_RATIO\n",
    ")\n",
    "\n",
    "other_data, test_data = train_test_split(\n",
    "    my_lovely_data, \n",
    "    stratify=my_lovely_data['label'], \n",
    "    random_state=123,\n",
    "    test_size=TEST_RATIO\n",
    ")\n",
    "\n",
    "target_data, subst_data = train_test_split(\n",
    "    other_data, \n",
    "    stratify=other_data['label'], \n",
    "    random_state=123,\n",
    "    test_size=SUBST_RATIO\n",
    ")\n",
    "\n",
    "target_data_tr, target_data_val = train_test_split(\n",
    "    target_data, \n",
    "    stratify=target_data['label'], \n",
    "    random_state=123,\n",
    "    test_size=VALID_RATIO\n",
    ")\n",
    "\n",
    "subst_data_tr, subst_data_val = train_test_split(\n",
    "    subst_data, \n",
    "    stratify=subst_data['label'], \n",
    "    random_state=123,\n",
    "    test_size=VALID_RATIO\n",
    ")"
   ]
  },
  {
   "cell_type": "code",
   "execution_count": 20,
   "metadata": {},
   "outputs": [
    {
     "data": {
      "text/plain": [
       "((64070, 4), (322912, 4), (80729, 4))"
      ]
     },
     "execution_count": 20,
     "metadata": {},
     "output_type": "execute_result"
    }
   ],
   "source": [
    "test_data.shape, target_data_tr.shape, target_data_val.shape"
   ]
  },
  {
   "cell_type": "code",
   "execution_count": 21,
   "metadata": {},
   "outputs": [
    {
     "data": {
      "text/plain": [
       "((138391, 4), (34598, 4))"
      ]
     },
     "execution_count": 21,
     "metadata": {},
     "output_type": "execute_result"
    }
   ],
   "source": [
    "subst_data_tr.shape, subst_data_val.shape"
   ]
  },
  {
   "cell_type": "code",
   "execution_count": 22,
   "metadata": {},
   "outputs": [
    {
     "data": {
      "text/plain": [
       "((576630, 4), (64070, 4))"
      ]
     },
     "execution_count": 22,
     "metadata": {},
     "output_type": "execute_result"
    }
   ],
   "source": [
    "lm_train.shape, lm_valid.shape"
   ]
  },
  {
   "cell_type": "code",
   "execution_count": 23,
   "metadata": {},
   "outputs": [],
   "source": [
    "write_jsonlines(test_data.to_dict('records'), f'{DATASET_PATH}/test.jsonl')\n",
    "\n",
    "write_jsonlines(target_data_tr.to_dict('records'), f'{DATASET_PATH}/target_clf/train.jsonl')\n",
    "write_jsonlines(target_data_val.to_dict('records'), f'{DATASET_PATH}/target_clf/valid.jsonl')\n",
    "\n",
    "write_jsonlines(subst_data_tr.to_dict('records'), f'{DATASET_PATH}/substitute_clf/train.jsonl')\n",
    "write_jsonlines(subst_data_val.to_dict('records'), f'{DATASET_PATH}/substitute_clf/valid.jsonl')\n",
    "\n",
    "write_jsonlines(lm_train.to_dict('records'), f'{DATASET_PATH}/lm/train.jsonl')\n",
    "write_jsonlines(lm_valid.to_dict('records'), f'{DATASET_PATH}/lm/valid.jsonl')"
   ]
  },
  {
   "cell_type": "code",
   "execution_count": null,
   "metadata": {},
   "outputs": [],
   "source": []
  },
  {
   "cell_type": "code",
   "execution_count": null,
   "metadata": {},
   "outputs": [],
   "source": []
  },
  {
   "cell_type": "code",
   "execution_count": null,
   "metadata": {},
   "outputs": [],
   "source": []
  }
 ],
 "metadata": {
  "kernelspec": {
   "display_name": "Python 3",
   "language": "python",
   "name": "python3"
  },
  "language_info": {
   "codemirror_mode": {
    "name": "ipython",
    "version": 3
   },
   "file_extension": ".py",
   "mimetype": "text/x-python",
   "name": "python",
   "nbconvert_exporter": "python",
   "pygments_lexer": "ipython3",
   "version": "3.6.9"
  }
 },
 "nbformat": 4,
 "nbformat_minor": 4
}
